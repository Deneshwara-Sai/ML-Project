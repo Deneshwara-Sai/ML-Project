{
 "cells": [
  {
   "cell_type": "code",
   "execution_count": 2,
   "metadata": {},
   "outputs": [],
   "source": [
    "from ultralytics import YOLO\n",
    "import os\n",
    "from PIL import Image\n",
    "import matplotlib.pyplot as plt"
   ]
  },
  {
   "cell_type": "code",
   "execution_count": null,
   "metadata": {},
   "outputs": [
    {
     "name": "stdout",
     "output_type": "stream",
     "text": [
      "license_plate_detector.pt\n",
      "\n"
     ]
    },
    {
     "name": "stderr",
     "output_type": "stream",
     "text": [
      "2024-11-10 13:24:16.895 Python[59391:4631160] +[IMKClient subclass]: chose IMKClient_Modern\n",
      "2024-11-10 13:24:16.895 Python[59391:4631160] +[IMKInputSession subclass]: chose IMKInputSession_Modern\n"
     ]
    },
    {
     "name": "stdout",
     "output_type": "stream",
     "text": [
      "image 1/1 /Users/denesh/Desktop/IIT-Chicago/Sem-2/ML/IIT-CS584-ML/ML/image1.jpg: 416x640 1 license_plate, 152.9ms\n",
      "Speed: 3.8ms preprocess, 152.9ms inference, 19.7ms postprocess per image at shape (1, 3, 416, 640)\n",
      "Results saved to \u001b[1mruns/detect/predict10\u001b[0m\n"
     ]
    }
   ],
   "source": [
    "model_path = os.path.join('license_plate_detector.pt') # 'runs', 'detect', 'train', 'weights', 'best.pt')\n",
    "print(model_path)\n",
    "\n",
    "yolo = YOLO(model_path)\n",
    "\n",
    "test_image_path = os.path.join('image1.jpg')\n",
    "\n",
    "results = yolo.predict(source=test_image_path, save=True, show=True)\n",
    "\n",
    "image = Image.open(test_image_path)"
   ]
  },
  {
   "cell_type": "code",
   "execution_count": 4,
   "metadata": {},
   "outputs": [
    {
     "name": "stdout",
     "output_type": "stream",
     "text": [
      "(115, 115, 177, 135)\n"
     ]
    }
   ],
   "source": [
    "for result in results:\n",
    "    # Access bounding boxes, confidences, and classes\n",
    "    boxes = result.boxes  # bounding boxes\n",
    "    confidences = boxes.conf  # confidence scores\n",
    "    x, y, w, h = boxes.xywh[0]\n",
    "\n",
    "    xMin = int(x - w / 2)\n",
    "    yMin = int(y - h / 2)\n",
    "    xMax = int(x + w / 2)\n",
    "    yMax = int(y + h/ 2)\n",
    "\n",
    "    regionOfInterest = image.crop((xMin, yMin, xMax, yMax))\n",
    "    regionOfInterest.save(os.path.join('testedLicencePlate1.jpg'))\n",
    "    print((xMin, yMin, xMax, yMax))"
   ]
  },
  {
   "cell_type": "code",
   "execution_count": 5,
   "metadata": {},
   "outputs": [
    {
     "name": "stdout",
     "output_type": "stream",
     "text": [
      "testedLicencePlate1.jpg\n"
     ]
    }
   ],
   "source": [
    "testPath = os.path.join('testedLicencePlate1.jpg') # 'runs', 'detect', 'train', 'weights', 'best.pt')\n",
    "print(testPath)\n",
    "\n",
    "image = Image.open(testPath)\n",
    "\n",
    "enlarged_image = image.resize((image.width * 2, image.height * 2))\n",
    "\n",
    "enlarged_image.show()"
   ]
  },
  {
   "cell_type": "code",
   "execution_count": null,
   "metadata": {},
   "outputs": [],
   "source": []
  },
  {
   "cell_type": "code",
   "execution_count": null,
   "metadata": {},
   "outputs": [],
   "source": []
  }
 ],
 "metadata": {
  "kernelspec": {
   "display_name": "Python 3",
   "language": "python",
   "name": "python3"
  },
  "language_info": {
   "codemirror_mode": {
    "name": "ipython",
    "version": 3
   },
   "file_extension": ".py",
   "mimetype": "text/x-python",
   "name": "python",
   "nbconvert_exporter": "python",
   "pygments_lexer": "ipython3",
   "version": "3.12.1"
  }
 },
 "nbformat": 4,
 "nbformat_minor": 2
}
